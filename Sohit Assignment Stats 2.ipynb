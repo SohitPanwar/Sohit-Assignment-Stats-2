{
 "cells": [
  {
   "cell_type": "markdown",
   "metadata": {},
   "source": [
    "#Problem Statement 1:\n",
    "\n",
    "A test is conducted which is consisting of 20 MCQs (multiple choices questions) with every\n",
    "MCQ having its four options out of which only one is correct. Determine the probability that\n",
    "a person undertaking that test has answered exactly 5 questions wrong.\n",
    "\n",
    "\n",
    "Ans. Making cases where 5 questions were exactly wrong out of 20.\n",
    "For that we use Combination method, 20C5. Which can also be written as 20!/5!(20-5)!\n",
    "\n",
    "Since only 1 option is correct out of 4 the probability of getting correct answer is 1/4. For 15 right answers probability is (1/4)^15\n",
    "\n",
    "And the probability of getting wrong answer is 3/4, also there are 5 wrong answers hence total probability is (3/4)^5.\n",
    "\n",
    "\n",
    "Putting all above together in an equation we get:\n",
    "20C5*(1/4)^15*(3/4)^5\n",
    "\n",
    "Solving it we get: \n",
    "\n",
    "\n",
    "\n",
    "ANSWER: 0.00000342"
   ]
  },
  {
   "cell_type": "markdown",
   "metadata": {},
   "source": [
    "#Problem Statement 2:\n",
    "\n",
    "A die marked A to E is rolled 50 times. Find the probability of getting a “D” exactly\n",
    "5 times.\n",
    "\n",
    "\n",
    "Ans.Making cases where 'D' should occur exactly 5 times  after throwing a dice 50 times.\n",
    "For that we use Combination method, 50C5. Which can also be written as 50!/5!(50-5)!\n",
    "\n",
    "For getting 'D' the probability is 1/6. For 5 times probability is (1/6)^5\n",
    "\n",
    "And the probability of not getting 'D' is 5/6, also this is going to happen 45 times hence total probability is (5/6)^45.\n",
    "\n",
    "\n",
    "Putting all above together in an equation we get:\n",
    "50C5*(1/6)^5*(5/6)^45\n",
    "\n",
    "Solving it we get: \n",
    "\n",
    "ANSWER: 0.0745\n"
   ]
  },
  {
   "cell_type": "markdown",
   "metadata": {},
   "source": [
    "#Problem Statement 3:\n",
    "\n",
    "Two balls are drawn at random in succession without replacement from an urn\n",
    "containing 4 red balls and 6 black balls.\n",
    "Find the probabilities of all the possible outcomes\n",
    "\n",
    "\n",
    "Ans. Balls can be drawn in following manner:\n",
    "\n",
    "Possible Outcomes         Probability\n",
    "1. RED & RED          (4/10)(3/9)= 2/15\n",
    "\n",
    "2. RED & BLACK        (4/10)(6/9)= 4/15\n",
    "\n",
    "3. BLACK & RED        (6/10)(4/9)= 4/15\n",
    "\n",
    "4. BLACK & BLACK      (6/10)(5/9)= 1/3\n",
    "\n",
    "Sum of all Probability is 2/15 + 4/15 + 4/15 + 1/3 = 1"
   ]
  }
 ],
 "metadata": {
  "kernelspec": {
   "display_name": "Python 3",
   "language": "python",
   "name": "python3"
  },
  "language_info": {
   "codemirror_mode": {
    "name": "ipython",
    "version": 3
   },
   "file_extension": ".py",
   "mimetype": "text/x-python",
   "name": "python",
   "nbconvert_exporter": "python",
   "pygments_lexer": "ipython3",
   "version": "3.7.3"
  }
 },
 "nbformat": 4,
 "nbformat_minor": 2
}
